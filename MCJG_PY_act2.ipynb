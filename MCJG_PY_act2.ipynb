{
  "nbformat": 4,
  "nbformat_minor": 0,
  "metadata": {
    "colab": {
      "provenance": [],
      "authorship_tag": "ABX9TyMeO1oAPfEGrPF3BU7jCDJ8",
      "include_colab_link": true
    },
    "kernelspec": {
      "name": "python3",
      "display_name": "Python 3"
    },
    "language_info": {
      "name": "python"
    }
  },
  "cells": [
    {
      "cell_type": "markdown",
      "metadata": {
        "id": "view-in-github",
        "colab_type": "text"
      },
      "source": [
        "<a href=\"https://colab.research.google.com/github/gabrielcocco/python-2/blob/main/MCJG_PY_act2.ipynb\" target=\"_parent\"><img src=\"https://colab.research.google.com/assets/colab-badge.svg\" alt=\"Open In Colab\"/></a>"
      ]
    },
    {
      "cell_type": "markdown",
      "source": [
        "jose gabriel marro cocco grupo 432"
      ],
      "metadata": {
        "id": "i46XefEvcp71"
      }
    },
    {
      "cell_type": "markdown",
      "source": [
        "1.- Programa en Python que lea 2 números enteros, usar una condición y analizar los dos números y desplegar cual de los números es el mayor. 1"
      ],
      "metadata": {
        "id": "D9xoCf4YsfmJ"
      }
    },
    {
      "cell_type": "code",
      "execution_count": null,
      "metadata": {
        "id": "LgP7K0pycOB7",
        "colab": {
          "base_uri": "https://localhost:8080/"
        },
        "outputId": "a808ffc0-7b6f-40f5-c198-cd6f339f3b18"
      },
      "outputs": [
        {
          "output_type": "stream",
          "name": "stdout",
          "text": [
            "Ingresa el primer número: 8\n",
            "Ingresa el segundo número: 7\n",
            "El número mayor es: 8\n"
          ]
        }
      ],
      "source": [
        "n1 = int(input(\"Ingresa el primer número: \"))\n",
        "n2 = int(input(\"Ingresa el segundo número: \"))\n",
        "\n",
        "if n1 == n2:\n",
        "    print(\"Los números son iguales\")\n",
        "elif n1 > n2:\n",
        "    print(\"El número mayor es:\", n1)\n",
        "else:\n",
        "    print(\"El número mayor es:\", n2)"
      ]
    },
    {
      "cell_type": "markdown",
      "source": [
        "2.- Programa en Python Algoritmo que lea 4 calificaciones de un alumno, calcular y desplegar el promedio acompañado de la leyenda \"APROBADO\" o \"REPROBADO\""
      ],
      "metadata": {
        "id": "h8bfeSu6sbFB"
      }
    },
    {
      "cell_type": "code",
      "source": [
        "c1=int(input(\"ingresa la calificacion 1: \"))\n",
        "c2=int(input(\"ingresa la calificacion 2: \"))\n",
        "c3=int(input(\"ingresa la calificacion 3: \"))\n",
        "c4=int(input(\"ingresa la calificacion 4: \"))\n",
        "\n",
        "prom = (c1 + c2 + c3 + c4) / 4\n",
        "\n",
        "if prom>=60 :\n",
        "     print(\"aprobado,  tu calificacion es: \", prom)\n",
        "else :\n",
        "    print(\"reprobado,  tu calificacion es: \", prom)"
      ],
      "metadata": {
        "id": "PvsVsXZCsT1W",
        "colab": {
          "base_uri": "https://localhost:8080/"
        },
        "outputId": "02e1e3ea-4104-4e94-b0eb-7537b8d81cb5"
      },
      "execution_count": null,
      "outputs": [
        {
          "output_type": "stream",
          "name": "stdout",
          "text": [
            "ingresa la calificacion 1: 60\n",
            "ingresa la calificacion 2: 60\n",
            "ingresa la calificacion 3: 60\n",
            "ingresa la calificacion 4: 60\n",
            "aprobado,  tu calificacion es:  60.0\n"
          ]
        }
      ]
    },
    {
      "cell_type": "markdown",
      "source": [
        "3.- Programa en Python Algoritmo que a través de opciones (1.- HOMBRE 2.- MUJER ) preguntar al usuario cual es su sexo y desplegar la leyenda “HOMBRE ”, “MUJER”"
      ],
      "metadata": {
        "id": "JWr2Opy7sWWX"
      }
    },
    {
      "cell_type": "code",
      "source": [
        "print(\"programa para definir tu sexo\")\n",
        "print(\"para hombre ingresa 1 y para mujer ingresa 2 \")\n",
        "s = int(input(\"\"))\n",
        "if s==1:\n",
        "    print(\"eres hombre!\")\n",
        "else:\n",
        "    print(\"eres mujer!\")\n"
      ],
      "metadata": {
        "colab": {
          "base_uri": "https://localhost:8080/"
        },
        "id": "rVXtKBw7sWj7",
        "outputId": "3b4c00d8-a9b1-4229-abef-b1da60633a12"
      },
      "execution_count": null,
      "outputs": [
        {
          "output_type": "stream",
          "name": "stdout",
          "text": [
            "programa para definir tu sexo\n",
            "para hombre ingresa 1 y para mujer ingresa 2 \n",
            "2\n",
            "eres mujer!\n"
          ]
        }
      ]
    },
    {
      "cell_type": "markdown",
      "source": [
        "4.- Programa en Python que lea un número entero, y desplegar si el número es “PAR” o “IMPAR”"
      ],
      "metadata": {
        "id": "oVPBaRTrsmXX"
      }
    },
    {
      "cell_type": "code",
      "source": [
        "n = int(input(\"ingresa un numero para ver si es par o impar  \"))\n",
        "x = n % 2\n",
        "if x == 0:\n",
        "    print(\"el numero seleccionado es par\")\n",
        "else:\n",
        "    print(\"el numero selecccionado es impar\")"
      ],
      "metadata": {
        "id": "5ErV1yu3smBC",
        "colab": {
          "base_uri": "https://localhost:8080/"
        },
        "outputId": "7ba17580-d056-45a6-9045-2e008b253c3e"
      },
      "execution_count": null,
      "outputs": [
        {
          "output_type": "stream",
          "name": "stdout",
          "text": [
            "ingresa un numero para ver si es par o impar  7\n",
            "el numero selecccionado es impar\n"
          ]
        }
      ]
    },
    {
      "cell_type": "markdown",
      "source": [
        "5.- Programa en Python que lea 2 números enteros, usar una condición y analizar los dos números y desplegar cual de los números es el mayor."
      ],
      "metadata": {
        "id": "8DjHCtqNsppi"
      }
    },
    {
      "cell_type": "code",
      "source": [
        "n1 = int(input(\"Ingresa un numero numero: \"))\n",
        "n2 = int(input(\"ingresa el segundo numero: \"))\n",
        "\n",
        "if n1 == n2:\n",
        "    print(\"los numeros seleccionados son iguales\")\n",
        "elif n1 > n2:\n",
        "    print(\"el numero mayor es\", n1)\n",
        "else:\n",
        "    print(\"el numero mayor es\", n2)"
      ],
      "metadata": {
        "id": "i8KKTOu5ssqs",
        "colab": {
          "base_uri": "https://localhost:8080/"
        },
        "outputId": "4504b166-be58-487a-c158-beb1e69c9210"
      },
      "execution_count": null,
      "outputs": [
        {
          "output_type": "stream",
          "name": "stdout",
          "text": [
            "Ingresa un numero numero: 8\n",
            "ingresa el segundo numero: 8\n",
            "los numeros seleccionados son iguales\n"
          ]
        }
      ]
    },
    {
      "cell_type": "markdown",
      "source": [
        "6.- Programa en Python que lea 4 calificaciones de un alumno, calcular y desplegar el promedio acompañado de la leyenda APROBADO o REPROBADO"
      ],
      "metadata": {
        "id": "baZR3M6zs1sI"
      }
    },
    {
      "cell_type": "code",
      "source": [
        "c1=int(input(\"ingresa la calificacion 1: \"))\n",
        "c2=int(input(\"ingresa la calificacion 2: \"))\n",
        "c3=int(input(\"ingresa la calificacion 3: \"))\n",
        "c4=int(input(\"ingresa la calificacion 4: \"))\n",
        "\n",
        "prom = (c1 + c2 + c3 + c4) / 4\n",
        "\n",
        "if prom>100 :\n",
        "    print(\"calificacion erronea\")\n",
        "elif prom>=60 :\n",
        "    print(\"aprobado, tu calificacion es: \", prom})\n",
        "else :\n",
        "    print(\"reprobado,  tu calificacion es: \", prom)\n"
      ],
      "metadata": {
        "colab": {
          "base_uri": "https://localhost:8080/"
        },
        "id": "5K0u8LDLGUTD",
        "outputId": "7231ed8f-b82e-403b-ebf5-38c436ffd3cb"
      },
      "execution_count": null,
      "outputs": [
        {
          "output_type": "stream",
          "name": "stdout",
          "text": [
            "ingresa la calificacion 1: 80\n",
            "ingresa la calificacion 2: 80\n",
            "ingresa la calificacion 3: 80\n",
            "ingresa la calificacion 4: 90\n",
            "aprobado, tu calificacion es:  82.5\n"
          ]
        }
      ]
    },
    {
      "cell_type": "markdown",
      "source": [
        "7.- Programa en Python que a través de opciones (1.- HOMBRE 2.- MUJER ) preguntar al usuario cual es su sexo y desplegar la leyenda “HOMBRE ”, “MUJER”"
      ],
      "metadata": {
        "id": "i6kfu_dGJoQr"
      }
    },
    {
      "cell_type": "code",
      "source": [
        "print(\"programa para definir tu sexo\")\n",
        "print(\"para hombre ingresa 1 y para mujer ingresa 2 \")\n",
        "s=int(input(\" :\"))\n",
        "if s== 1:\n",
        "    print(\"eres hombre!\")\n",
        "elif s == 2:\n",
        "    print(\"eres mujer!\")\n",
        "else:\n",
        "    print(\"numero incorrecto\")"
      ],
      "metadata": {
        "colab": {
          "base_uri": "https://localhost:8080/"
        },
        "id": "6nfxDH94J4RO",
        "outputId": "4d60b7a1-046d-4026-d084-6ea938a8c812"
      },
      "execution_count": null,
      "outputs": [
        {
          "output_type": "stream",
          "name": "stdout",
          "text": [
            "programa para definir tu sexo\n",
            "para hombre ingresa 1 y para mujer ingresa 2 \n",
            " :2\n",
            "eres mujer!\n"
          ]
        }
      ]
    },
    {
      "cell_type": "markdown",
      "source": [
        "8.- Programa en Python que lea un número entero, y desplegar si el número es “PAR” o “IMPAR” NOTA: EJERCICIOS PARA SER RESUELTOS USANDO EXCLUSIVAMENTE CONDICIONES COMPUESTO"
      ],
      "metadata": {
        "id": "s1PZIbGyJ5GB"
      }
    },
    {
      "cell_type": "code",
      "source": [
        "n = int(input(\"ingresa un numero para ver si es par o impar  \"))\n",
        "x = n % 2\n",
        "if x == 0:\n",
        "    print(\"el numero seleccionado es par\")\n",
        "else:\n",
        "    print(\"el numero selecccionado es impar\")\n"
      ],
      "metadata": {
        "id": "w5IfQLX_J9wu",
        "colab": {
          "base_uri": "https://localhost:8080/"
        },
        "outputId": "e751cb3c-e13a-4b4f-de6e-0e938a568781"
      },
      "execution_count": null,
      "outputs": [
        {
          "output_type": "stream",
          "name": "stdout",
          "text": [
            "ingresa un numero para ver si es par o impar  8\n",
            "el numero seleccionado es par\n"
          ]
        }
      ]
    }
  ]
}