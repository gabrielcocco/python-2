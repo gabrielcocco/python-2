{
  "nbformat": 4,
  "nbformat_minor": 0,
  "metadata": {
    "colab": {
      "provenance": [],
      "authorship_tag": "ABX9TyPaw7qp2SntluHJ3IY8Y2rI",
      "include_colab_link": true
    },
    "kernelspec": {
      "name": "python3",
      "display_name": "Python 3"
    },
    "language_info": {
      "name": "python"
    }
  },
  "cells": [
    {
      "cell_type": "markdown",
      "metadata": {
        "id": "view-in-github",
        "colab_type": "text"
      },
      "source": [
        "<a href=\"https://colab.research.google.com/github/gabrielcocco/python-2/blob/main/actividad_2py.ipynb\" target=\"_parent\"><img src=\"https://colab.research.google.com/assets/colab-badge.svg\" alt=\"Open In Colab\"/></a>"
      ]
    },
    {
      "cell_type": "markdown",
      "source": [
        "jose gabriel marro cocco grupo 432"
      ],
      "metadata": {
        "id": "i46XefEvcp71"
      }
    },
    {
      "cell_type": "markdown",
      "source": [
        "1.- Programa en Python que lea 2 números enteros, usar una condición y analizar los dos números y desplegar cual de los números es el mayor. 1"
      ],
      "metadata": {
        "id": "D9xoCf4YsfmJ"
      }
    },
    {
      "cell_type": "code",
      "execution_count": 2,
      "metadata": {
        "id": "LgP7K0pycOB7",
        "colab": {
          "base_uri": "https://localhost:8080/"
        },
        "outputId": "a808ffc0-7b6f-40f5-c198-cd6f339f3b18"
      },
      "outputs": [
        {
          "output_type": "stream",
          "name": "stdout",
          "text": [
            "Ingresa el primer número: 8\n",
            "Ingresa el segundo número: 7\n",
            "El número mayor es: 8\n"
          ]
        }
      ],
      "source": [
        "n1 = int(input(\"Ingresa el primer número: \"))\n",
        "n2 = int(input(\"Ingresa el segundo número: \"))\n",
        "\n",
        "if n1 == n2:\n",
        "    print(\"Los números son iguales\")\n",
        "elif n1 > n2:\n",
        "    print(\"El número mayor es:\", n1)\n",
        "else:\n",
        "    print(\"El número mayor es:\", n2)"
      ]
    },
    {
      "cell_type": "markdown",
      "source": [
        "2.- Programa en PythonAlgoritmo que lea 4 calificaciones de un alumno, calcular y desplegar el promedio acompañado de la leyenda \"APROBADO\" o \"REPROBADO\""
      ],
      "metadata": {
        "id": "h8bfeSu6sbFB"
      }
    },
    {
      "cell_type": "code",
      "source": [],
      "metadata": {
        "id": "PvsVsXZCsT1W"
      },
      "execution_count": null,
      "outputs": []
    },
    {
      "cell_type": "markdown",
      "source": [
        "3.- Programa en PythonAlgoritmo que a través de opciones (1.- HOMBRE 2.- MUJER ) preguntar al usuario cual es su sexo y desplegar la leyenda “HOMBRE ”, “MUJER”"
      ],
      "metadata": {
        "id": "JWr2Opy7sWWX"
      }
    },
    {
      "cell_type": "code",
      "source": [],
      "metadata": {
        "id": "EugySZkQsUTu"
      },
      "execution_count": null,
      "outputs": []
    },
    {
      "cell_type": "markdown",
      "source": [
        "4.- Programa en Python que lea un número entero, y desplegar si el número es “PAR” o “IMPAR”"
      ],
      "metadata": {
        "id": "oVPBaRTrsmXX"
      }
    },
    {
      "cell_type": "code",
      "source": [],
      "metadata": {
        "id": "5ErV1yu3smBC"
      },
      "execution_count": null,
      "outputs": []
    },
    {
      "cell_type": "markdown",
      "source": [
        "5.- Programa en Python que lea 2 números enteros, usar una condición y analizar los dos números y desplegar cual de los números es el mayor."
      ],
      "metadata": {
        "id": "8DjHCtqNsppi"
      }
    },
    {
      "cell_type": "code",
      "source": [],
      "metadata": {
        "id": "i8KKTOu5ssqs"
      },
      "execution_count": null,
      "outputs": []
    },
    {
      "cell_type": "markdown",
      "source": [
        "6.- Programa en Python que lea 4 calificaciones de un alumno, calcular y desplegar el promedio acompañado de la leyenda APROBADO o REPROBADO"
      ],
      "metadata": {
        "id": "baZR3M6zs1sI"
      }
    }
  ]
}